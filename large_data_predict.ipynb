{
 "cells": [
  {
   "cell_type": "code",
   "execution_count": 1,
   "metadata": {
    "collapsed": false,
    "execution": {
     "iopub.execute_input": "2021-11-15T00:23:36.782491Z",
     "iopub.status.busy": "2021-11-15T00:23:36.782157Z",
     "iopub.status.idle": "2021-11-15T00:23:39.917446Z",
     "shell.execute_reply": "2021-11-15T00:23:39.916934Z",
     "shell.execute_reply.started": "2021-11-15T00:23:36.782413Z"
    },
    "jupyter": {
     "outputs_hidden": false
    },
    "pycharm": {
     "name": "#%%\n"
    }
   },
   "outputs": [
    {
     "name": "stdout",
     "output_type": "stream",
     "text": [
      "Requirement already satisfied: numerapi in /Users/andrewjennings/PycharmProjects/numerai_tree_regression/venv/tree_regression/lib/python3.8/site-packages (2.9.4)\r\n",
      "Requirement already satisfied: tqdm>=4.29.1 in /Users/andrewjennings/PycharmProjects/numerai_tree_regression/venv/tree_regression/lib/python3.8/site-packages (from numerapi) (4.62.0)\r\n",
      "Requirement already satisfied: pandas>=1.1.0 in /Users/andrewjennings/PycharmProjects/numerai_tree_regression/venv/tree_regression/lib/python3.8/site-packages (from numerapi) (1.3.1)\r\n",
      "Requirement already satisfied: requests in /Users/andrewjennings/PycharmProjects/numerai_tree_regression/venv/tree_regression/lib/python3.8/site-packages (from numerapi) (2.26.0)\r\n",
      "Requirement already satisfied: click>=7.0 in /Users/andrewjennings/PycharmProjects/numerai_tree_regression/venv/tree_regression/lib/python3.8/site-packages (from numerapi) (8.0.1)\r\n",
      "Requirement already satisfied: python-dateutil in /Users/andrewjennings/PycharmProjects/numerai_tree_regression/venv/tree_regression/lib/python3.8/site-packages (from numerapi) (2.8.2)\r\n",
      "Requirement already satisfied: pytz in /Users/andrewjennings/PycharmProjects/numerai_tree_regression/venv/tree_regression/lib/python3.8/site-packages (from numerapi) (2021.1)\r\n",
      "Requirement already satisfied: numpy>=1.17.3 in /Users/andrewjennings/PycharmProjects/numerai_tree_regression/venv/tree_regression/lib/python3.8/site-packages (from pandas>=1.1.0->numerapi) (1.19.5)\r\n",
      "Requirement already satisfied: six>=1.5 in /Users/andrewjennings/PycharmProjects/numerai_tree_regression/venv/tree_regression/lib/python3.8/site-packages (from python-dateutil->numerapi) (1.15.0)\r\n",
      "Requirement already satisfied: charset-normalizer~=2.0.0 in /Users/andrewjennings/PycharmProjects/numerai_tree_regression/venv/tree_regression/lib/python3.8/site-packages (from requests->numerapi) (2.0.4)\r\n",
      "Requirement already satisfied: certifi>=2017.4.17 in /Users/andrewjennings/PycharmProjects/numerai_tree_regression/venv/tree_regression/lib/python3.8/site-packages (from requests->numerapi) (2021.5.30)\r\n",
      "Requirement already satisfied: idna<4,>=2.5 in /Users/andrewjennings/PycharmProjects/numerai_tree_regression/venv/tree_regression/lib/python3.8/site-packages (from requests->numerapi) (3.2)\r\n",
      "Requirement already satisfied: urllib3<1.27,>=1.21.1 in /Users/andrewjennings/PycharmProjects/numerai_tree_regression/venv/tree_regression/lib/python3.8/site-packages (from requests->numerapi) (1.26.6)\r\n",
      "\u001B[33mWARNING: You are using pip version 21.1.2; however, version 21.3.1 is available.\r\n",
      "You should consider upgrading via the '/Users/andrewjennings/PycharmProjects/numerai_tree_regression/venv/tree_regression/bin/python -m pip install --upgrade pip' command.\u001B[0m\r\n"
     ]
    }
   ],
   "source": [
    "\n",
    "import pandas as pd\n",
    "\n",
    "!pip install numerapi\n",
    "\n",
    "from numerapi import NumerAPI\n",
    "\n",
    "from pathlib import Path\n",
    "\n",
    "#from sklearn.linear_model import Ridge\n",
    "from sklearn.feature_selection import SelectKBest, f_regression\n",
    "\n",
    "\n",
    "TOURNAMENT_NAME= \"first_large\"\n",
    "ERA_COL = \"era\"\n",
    "TARGET_COL = \"target_nomi_20\"\n",
    "DATA_TYPE_COL = \"data_type\"\n",
    "EXAMPLE_PREDS_COL = \"example_preds\"\n",
    "PREDICTION_NAME = f\"prediction_{TOURNAMENT_NAME}\"\n",
    "\n",
    "\n",
    "napi = NumerAPI()\n"
   ]
  },
  {
   "cell_type": "code",
   "execution_count": 2,
   "metadata": {
    "collapsed": false,
    "execution": {
     "iopub.execute_input": "2021-11-15T00:23:41.708610Z",
     "iopub.status.busy": "2021-11-15T00:23:41.708287Z",
     "iopub.status.idle": "2021-11-15T00:23:41.714266Z",
     "shell.execute_reply": "2021-11-15T00:23:41.713674Z",
     "shell.execute_reply.started": "2021-11-15T00:23:41.708586Z"
    },
    "jupyter": {
     "outputs_hidden": false
    },
    "pycharm": {
     "name": "#%%\n"
    }
   },
   "outputs": [],
   "source": [
    "from utils import save_stuff, load_stuff\n",
    "# utilities\n",
    "\n",
    "\n",
    "def score(df):\n",
    "    return df[[TARGET_COL, PREDICTION_NAME]].corr(method=\"spearman\")[TARGET_COL][PREDICTION_NAME]\n",
    "\n"
   ]
  },
  {
   "cell_type": "code",
   "execution_count": 5,
   "metadata": {
    "collapsed": false,
    "execution": {
     "iopub.execute_input": "2021-11-15T00:23:43.138539Z",
     "iopub.status.busy": "2021-11-15T00:23:43.138250Z",
     "iopub.status.idle": "2021-11-15T00:23:56.049124Z",
     "shell.execute_reply": "2021-11-15T00:23:56.048607Z",
     "shell.execute_reply.started": "2021-11-15T00:23:43.138516Z"
    },
    "jupyter": {
     "outputs_hidden": false
    },
    "pycharm": {
     "name": "#%%\n"
    }
   },
   "outputs": [
    {
     "name": "stdout",
     "output_type": "stream",
     "text": [
      "Downloading dataset files...\n"
     ]
    },
    {
     "name": "stderr",
     "output_type": "stream",
     "text": [
      "2021-11-15 12:47:04,969 INFO numerapi.utils: starting download\n",
      "tournament_data_290.parquet: 100%|█████████▉| 582M/582M [02:03<00:00, 5.70MB/s] 2021-11-15 12:49:10,878 INFO numerapi.utils: target file already exists\n",
      "2021-11-15 12:49:10,879 INFO numerapi.utils: download complete\n",
      "2021-11-15 12:49:12,417 INFO numerapi.utils: target file already exists\n",
      "2021-11-15 12:49:12,417 INFO numerapi.utils: download complete\n"
     ]
    },
    {
     "name": "stdout",
     "output_type": "stream",
     "text": [
      "Checking for existing model 'model_target'\n",
      "On validation the correlation has mean 0.015585355849337039 and std 0.03345040269330712\n"
     ]
    },
    {
     "name": "stderr",
     "output_type": "stream",
     "text": [
      "tournament_data_290.parquet: 582MB [02:19, 5.70MB/s]                           "
     ]
    },
    {
     "name": "stdout",
     "output_type": "stream",
     "text": [
      "Predicting on tournament data\n"
     ]
    }
   ],
   "source": [
    "current_round = napi.get_current_round(tournament=8)  # tournament 8 is the primary Numerai Tournament\n",
    "\n",
    "print('Downloading dataset files...')\n",
    "\n",
    "napi.download_dataset(\"numerai_tournament_data.parquet\", f\"tournament_data_{current_round}.parquet\")\n",
    "napi.download_dataset(\"numerai_validation_data.parquet\", f\"validation_data.parquet\")\n",
    "napi.download_dataset(\"example_validation_predictions.parquet\", \"example_validation_predictions.parquet\")\n",
    "\n",
    "model_name = f\"model_target\"\n",
    "print(f\"Checking for existing model '{model_name}'\")\n",
    "model = load_stuff(model_name)\n",
    "selected_features = load_stuff('features')\n",
    "if not model:\n",
    "    print(f\"model not found\")\n",
    "\n",
    "model_expected_features = selected_features\n",
    "\n",
    "read_columns = model_expected_features + [ERA_COL, DATA_TYPE_COL, TARGET_COL]\n",
    "\n",
    "validation_data = pd.read_parquet('validation_data.parquet', columns=read_columns)\n",
    "validation_data[PREDICTION_NAME] = model.predict(validation_data[model_expected_features])\n",
    "\n",
    "validation_preds = pd.read_parquet('example_validation_predictions.parquet')\n",
    "validation_data[EXAMPLE_PREDS_COL] = validation_preds[\"prediction\"]\n",
    "\n",
    "validation_correlations = validation_data.groupby(\"era\").apply(score)\n",
    "print(f\"On validation the correlation has mean {validation_correlations.mean()} and std {validation_correlations.std()}\")\n",
    "\n",
    "\n",
    "tournament_data = pd.read_parquet(f'tournament_data_{current_round}.parquet')\n",
    "\n",
    "print('Predicting on tournament data')\n",
    "tournament_data[PREDICTION_NAME] = model.predict(tournament_data[model_expected_features])\n",
    "\n",
    "tournament_data[PREDICTION_NAME].to_csv(\"predictions.csv\")\n",
    "\n",
    "\n",
    "\n"
   ]
  },
  {
   "cell_type": "code",
   "execution_count": null,
   "metadata": {
    "collapsed": false,
    "jupyter": {
     "outputs_hidden": false
    },
    "pycharm": {
     "name": "#%%\n"
    }
   },
   "outputs": [],
   "source": [
    "id = \"OML65REYFDPC5O7N22XCRP44BG2M74XH\"\n",
    "key = \"YSTL455VERL7WZ4D7OQ6XEYEQN2MRCCICBMILNFP3DUZC4MSAS2WSH2MV7ED6WB3\"\n",
    "\n",
    "napi = NumerAPI(public_id=id,secret_key=key)\n",
    "#print('uploading')\n",
    "\n",
    "path =  \"predictions.csv\"\n",
    "\n",
    "#print('uploading')\n",
    "#submission_string = napi.upload_predictions(file_path=path,version=2)\n",
    "#print(submission_string)\n",
    "\n",
    "\n",
    "\n",
    "\n"
   ]
  }
 ],
 "metadata": {
  "kernelspec": {
   "display_name": "saturn (Python 3)",
   "language": "python",
   "name": "python3"
  },
  "language_info": {
   "codemirror_mode": {
    "name": "ipython",
    "version": 3
   },
   "file_extension": ".py",
   "mimetype": "text/x-python",
   "name": "python",
   "nbconvert_exporter": "python",
   "pygments_lexer": "ipython3",
   "version": "3.9.7"
  }
 },
 "nbformat": 4,
 "nbformat_minor": 4
}