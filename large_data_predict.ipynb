{
 "cells": [
  {
   "cell_type": "code",
   "execution_count": 1,
   "metadata": {
    "collapsed": false,
    "execution": {
     "iopub.status.idle": "2022-02-13T00:45:47.292406Z",
     "shell.execute_reply": "2022-02-13T00:45:47.291888Z",
     "shell.execute_reply.started": "2022-02-13T00:45:44.054030Z"
    },
    "jupyter": {
     "outputs_hidden": false
    },
    "pycharm": {
     "name": "#%%\n"
    }
   },
   "outputs": [
    {
     "name": "stdout",
     "output_type": "stream",
     "text": [
      "Collecting numerapi\n",
      "  Using cached numerapi-2.9.4-py3-none-any.whl (26 kB)\n",
      "Requirement already satisfied: requests in /opt/conda/envs/saturn/lib/python3.9/site-packages (from numerapi) (2.25.1)\n",
      "Requirement already satisfied: click>=7.0 in /opt/conda/envs/saturn/lib/python3.9/site-packages (from numerapi) (7.1.2)\n",
      "Requirement already satisfied: pandas>=1.1.0 in /opt/conda/envs/saturn/lib/python3.9/site-packages (from numerapi) (1.3.3)\n",
      "Requirement already satisfied: pytz in /opt/conda/envs/saturn/lib/python3.9/site-packages (from numerapi) (2021.3)\n",
      "Collecting tqdm>=4.29.1\n",
      "  Using cached tqdm-4.62.3-py2.py3-none-any.whl (76 kB)\n",
      "Requirement already satisfied: python-dateutil in /opt/conda/envs/saturn/lib/python3.9/site-packages (from numerapi) (2.8.2)\n",
      "Requirement already satisfied: numpy>=1.17.3 in /opt/conda/envs/saturn/lib/python3.9/site-packages (from pandas>=1.1.0->numerapi) (1.20.3)\n",
      "Requirement already satisfied: six>=1.5 in /opt/conda/envs/saturn/lib/python3.9/site-packages (from python-dateutil->numerapi) (1.16.0)\n",
      "Requirement already satisfied: certifi>=2017.4.17 in /opt/conda/envs/saturn/lib/python3.9/site-packages (from requests->numerapi) (2021.10.8)\n",
      "Requirement already satisfied: urllib3<1.27,>=1.21.1 in /opt/conda/envs/saturn/lib/python3.9/site-packages (from requests->numerapi) (1.26.7)\n",
      "Requirement already satisfied: idna<3,>=2.5 in /opt/conda/envs/saturn/lib/python3.9/site-packages (from requests->numerapi) (2.10)\n",
      "Requirement already satisfied: chardet<5,>=3.0.2 in /opt/conda/envs/saturn/lib/python3.9/site-packages (from requests->numerapi) (4.0.0)\n",
      "Installing collected packages: tqdm, numerapi\n",
      "Successfully installed numerapi-2.9.4 tqdm-4.62.3\n"
     ]
    }
   ],
   "source": [
    "\n",
    "import pandas as pd\n",
    "\n",
    "!pip install numerapi\n",
    "\n",
    "from numerapi import NumerAPI\n",
    "\n",
    "from pathlib import Path\n",
    "\n",
    "#from sklearn.linear_model import Ridge\n",
    "from sklearn.feature_selection import SelectKBest, f_regression\n",
    "\n",
    "import pyarrow.parquet as pq\n",
    "\n",
    "import os\n",
    "\n",
    "\n",
    "TOURNAMENT_NAME= \"first_large\"\n",
    "ERA_COL = \"era\"\n",
    "TARGET_COL = \"target_nomi_20\"\n",
    "DATA_TYPE_COL = \"data_type\"\n",
    "EXAMPLE_PREDS_COL = \"example_preds\"\n",
    "PREDICTION_NAME = \"prediction\"\n",
    "\n",
    "id = \"OML65REYFDPC5O7N22XCRP44BG2M74XH\"\n",
    "key = \"YSTL455VERL7WZ4D7OQ6XEYEQN2MRCCICBMILNFP3DUZC4MSAS2WSH2MV7ED6WB3\"\n",
    "\n",
    "napi = NumerAPI(public_id=id,secret_key=key)\n"
   ]
  },
  {
   "cell_type": "code",
   "execution_count": 2,
   "metadata": {
    "collapsed": false,
    "execution": {
     "iopub.execute_input": "2022-02-13T00:45:47.294186Z",
     "iopub.status.busy": "2022-02-13T00:45:47.293854Z",
     "iopub.status.idle": "2022-02-13T00:45:47.299050Z",
     "shell.execute_reply": "2022-02-13T00:45:47.298477Z",
     "shell.execute_reply.started": "2022-02-13T00:45:47.294153Z"
    },
    "jupyter": {
     "outputs_hidden": false
    },
    "pycharm": {
     "name": "#%%\n"
    }
   },
   "outputs": [],
   "source": [
    "from utils import save_stuff, load_stuff\n",
    "# utilities\n",
    "\n",
    "\n",
    "def score(df):\n",
    "    return df[[TARGET_COL, PREDICTION_NAME]].corr(method=\"spearman\")[TARGET_COL][PREDICTION_NAME]\n",
    "\n"
   ]
  },
  {
   "cell_type": "code",
   "execution_count": 3,
   "metadata": {
    "collapsed": false,
    "execution": {
     "iopub.execute_input": "2022-02-13T00:45:47.300499Z",
     "iopub.status.busy": "2022-02-13T00:45:47.300050Z",
     "iopub.status.idle": "2022-02-13T00:46:21.912591Z",
     "shell.execute_reply": "2022-02-13T00:46:21.911991Z",
     "shell.execute_reply.started": "2022-02-13T00:45:47.300468Z"
    },
    "jupyter": {
     "outputs_hidden": false
    },
    "pycharm": {
     "name": "#%%\n"
    }
   },
   "outputs": [
    {
     "name": "stdout",
     "output_type": "stream",
     "text": [
      "Downloading dataset files...\n"
     ]
    },
    {
     "name": "stderr",
     "output_type": "stream",
     "text": [
      "2022-02-13 00:45:48,033 INFO numerapi.utils: starting download\n",
      "tournament_data_303.parquet: 582MB [00:20, 28.4MB/s]                            \n",
      "2022-02-13 00:46:08,990 INFO numerapi.utils: target file already exists\n",
      "2022-02-13 00:46:08,991 INFO numerapi.utils: download complete\n",
      "2022-02-13 00:46:16,753 INFO numerapi.utils: target file already exists\n",
      "2022-02-13 00:46:16,754 INFO numerapi.utils: download complete\n"
     ]
    },
    {
     "name": "stdout",
     "output_type": "stream",
     "text": [
      "Checking for existing model 'model_target'\n",
      "On validation the correlation has mean 0.015585370936464444 and std 0.03345040207303254\n",
      "Predicting on tournament data\n"
     ]
    }
   ],
   "source": [
    "current_round = napi.get_current_round(tournament=8)  # tournament 8 is the primary Numerai Tournament\n",
    "\n",
    "print('Downloading dataset files...')\n",
    "\n",
    "napi.download_dataset(\"numerai_tournament_data.parquet\", f\"tournament_data_{current_round}.parquet\")\n",
    "napi.download_dataset(\"numerai_validation_data.parquet\", f\"validation_data.parquet\")\n",
    "\n",
    "validation_data = pq.read_table('validation_data.parquet').to_pandas()\n",
    "tournament_data = pq.read_table(f\"tournament_data_{current_round}.parquet\").to_pandas()\n",
    "\n",
    "napi.download_dataset(\"example_validation_predictions.parquet\", \"example_validation_predictions.parquet\")\n",
    "\n",
    "model_name = f\"model_target\"\n",
    "print(f\"Checking for existing model '{model_name}'\")\n",
    "model = load_stuff(model_name)\n",
    "selected_features = load_stuff('features')\n",
    "if not model:\n",
    "    print(f\"model not found\")\n",
    "\n",
    "model_expected_features = selected_features\n",
    "\n",
    "read_columns = model_expected_features + [ERA_COL, DATA_TYPE_COL, TARGET_COL]\n",
    "\n",
    "#validation_data = pd.read_csv('validation_data.csv', usecols=read_columns)\n",
    "validation_data[PREDICTION_NAME] = model.predict(validation_data[model_expected_features])\n",
    "\n",
    "validation_preds = pq.read_table(\"example_validation_predictions.parquet\").to_pandas()\n",
    "validation_data[EXAMPLE_PREDS_COL] = validation_preds[\"prediction\"]\n",
    "\n",
    "validation_correlations = validation_data.groupby(\"era\").apply(score)\n",
    "print(f\"On validation the correlation has mean {validation_correlations.mean()} and std {validation_correlations.std()}\")\n",
    "\n",
    "\n",
    "print('Predicting on tournament data')\n",
    "tournament_data[PREDICTION_NAME] = model.predict(tournament_data[model_expected_features])\n",
    "\n",
    "tournament_data[PREDICTION_NAME].to_csv(\"predictions.csv\")\n",
    "\n",
    "\n",
    "\n"
   ]
  },
  {
   "cell_type": "code",
   "execution_count": 4,
   "metadata": {
    "collapsed": false,
    "execution": {
     "iopub.execute_input": "2022-02-13T00:46:21.913704Z",
     "iopub.status.busy": "2022-02-13T00:46:21.913472Z",
     "iopub.status.idle": "2022-02-13T00:46:28.289504Z",
     "shell.execute_reply": "2022-02-13T00:46:28.288931Z",
     "shell.execute_reply.started": "2022-02-13T00:46:21.913684Z"
    },
    "jupyter": {
     "outputs_hidden": false
    },
    "pycharm": {
     "name": "#%%\n"
    }
   },
   "outputs": [
    {
     "name": "stderr",
     "output_type": "stream",
     "text": [
      "2022-02-13 00:46:21,914 INFO numerapi.base_api: uploading predictions...\n"
     ]
    },
    {
     "name": "stdout",
     "output_type": "stream",
     "text": [
      "uploading\n",
      "8baa7ccb-3516-4710-bb87-d44b14dc0548\n"
     ]
    }
   ],
   "source": [
    "\n",
    "#print('uploading')\n",
    "\n",
    "path =  \"predictions.csv\"\n",
    "\n",
    "print('uploading')\n",
    "submission_string = napi.upload_predictions(file_path=path,version=2)\n",
    "print(submission_string)\n",
    "\n",
    "\n",
    "\n",
    "\n"
   ]
  },
  {
   "cell_type": "code",
   "execution_count": null,
   "metadata": {},
   "outputs": [],
   "source": [
    "\n",
    "\n",
    "\n",
    "\n"
   ]
  }
 ],
 "metadata": {
  "kernelspec": {
   "display_name": "saturn (Python 3)",
   "language": "python",
   "name": "python3"
  },
  "language_info": {
   "codemirror_mode": {
    "name": "ipython",
    "version": 3
   },
   "file_extension": ".py",
   "mimetype": "text/x-python",
   "name": "python",
   "nbconvert_exporter": "python",
   "pygments_lexer": "ipython3",
   "version": "3.9.7"
  }
 },
 "nbformat": 4,
 "nbformat_minor": 4
}
