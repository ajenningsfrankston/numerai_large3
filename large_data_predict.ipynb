{
 "cells": [
  {
   "cell_type": "code",
   "execution_count": 1,
   "metadata": {
    "collapsed": false,
    "execution": {
     "iopub.execute_input": "2021-12-07T21:37:40.084570Z",
     "iopub.status.busy": "2021-12-07T21:37:40.084227Z",
     "iopub.status.idle": "2021-12-07T21:37:43.398851Z",
     "shell.execute_reply": "2021-12-07T21:37:43.398321Z",
     "shell.execute_reply.started": "2021-12-07T21:37:40.084505Z"
    },
    "jupyter": {
     "outputs_hidden": false
    },
    "pycharm": {
     "name": "#%%\n"
    }
   },
   "outputs": [
    {
     "name": "stdout",
     "output_type": "stream",
     "text": [
      "Collecting numerapi\n",
      "  Using cached numerapi-2.9.4-py3-none-any.whl (26 kB)\n",
      "Requirement already satisfied: pytz in /opt/conda/envs/saturn/lib/python3.9/site-packages (from numerapi) (2021.3)\n",
      "Requirement already satisfied: requests in /opt/conda/envs/saturn/lib/python3.9/site-packages (from numerapi) (2.25.1)\n",
      "Requirement already satisfied: pandas>=1.1.0 in /opt/conda/envs/saturn/lib/python3.9/site-packages (from numerapi) (1.3.3)\n",
      "Requirement already satisfied: click>=7.0 in /opt/conda/envs/saturn/lib/python3.9/site-packages (from numerapi) (7.1.2)\n",
      "Requirement already satisfied: python-dateutil in /opt/conda/envs/saturn/lib/python3.9/site-packages (from numerapi) (2.8.2)\n",
      "Collecting tqdm>=4.29.1\n",
      "  Using cached tqdm-4.62.3-py2.py3-none-any.whl (76 kB)\n",
      "Requirement already satisfied: numpy>=1.17.3 in /opt/conda/envs/saturn/lib/python3.9/site-packages (from pandas>=1.1.0->numerapi) (1.20.3)\n",
      "Requirement already satisfied: six>=1.5 in /opt/conda/envs/saturn/lib/python3.9/site-packages (from python-dateutil->numerapi) (1.16.0)\n",
      "Requirement already satisfied: chardet<5,>=3.0.2 in /opt/conda/envs/saturn/lib/python3.9/site-packages (from requests->numerapi) (4.0.0)\n",
      "Requirement already satisfied: certifi>=2017.4.17 in /opt/conda/envs/saturn/lib/python3.9/site-packages (from requests->numerapi) (2021.10.8)\n",
      "Requirement already satisfied: idna<3,>=2.5 in /opt/conda/envs/saturn/lib/python3.9/site-packages (from requests->numerapi) (2.10)\n",
      "Requirement already satisfied: urllib3<1.27,>=1.21.1 in /opt/conda/envs/saturn/lib/python3.9/site-packages (from requests->numerapi) (1.26.7)\n",
      "Installing collected packages: tqdm, numerapi\n",
      "Successfully installed numerapi-2.9.4 tqdm-4.62.3\n"
     ]
    }
   ],
   "source": [
    "\n",
    "import pandas as pd\n",
    "\n",
    "!pip install numerapi\n",
    "\n",
    "from numerapi import NumerAPI\n",
    "\n",
    "from pathlib import Path\n",
    "\n",
    "#from sklearn.linear_model import Ridge\n",
    "from sklearn.feature_selection import SelectKBest, f_regression\n",
    "\n",
    "import pyarrow.parquet as pq\n",
    "import s3fs\n",
    "import os\n",
    "\n",
    "\n",
    "TOURNAMENT_NAME= \"first_large\"\n",
    "ERA_COL = \"era\"\n",
    "TARGET_COL = \"target_nomi_20\"\n",
    "DATA_TYPE_COL = \"data_type\"\n",
    "EXAMPLE_PREDS_COL = \"example_preds\"\n",
    "PREDICTION_NAME = \"prediction\"\n",
    "\n",
    "id = \"OML65REYFDPC5O7N22XCRP44BG2M74XH\"\n",
    "key = \"YSTL455VERL7WZ4D7OQ6XEYEQN2MRCCICBMILNFP3DUZC4MSAS2WSH2MV7ED6WB3\"\n",
    "\n",
    "napi = NumerAPI(public_id=id,secret_key=key)\n"
   ]
  },
  {
   "cell_type": "code",
   "execution_count": 2,
   "metadata": {
    "collapsed": false,
    "execution": {
     "iopub.execute_input": "2021-12-07T21:37:43.400381Z",
     "iopub.status.busy": "2021-12-07T21:37:43.400080Z",
     "iopub.status.idle": "2021-12-07T21:37:43.405135Z",
     "shell.execute_reply": "2021-12-07T21:37:43.404650Z",
     "shell.execute_reply.started": "2021-12-07T21:37:43.400349Z"
    },
    "jupyter": {
     "outputs_hidden": false
    },
    "pycharm": {
     "name": "#%%\n"
    }
   },
   "outputs": [],
   "source": [
    "from utils import save_stuff, load_stuff\n",
    "# utilities\n",
    "\n",
    "\n",
    "def score(df):\n",
    "    return df[[TARGET_COL, PREDICTION_NAME]].corr(method=\"spearman\")[TARGET_COL][PREDICTION_NAME]\n",
    "\n"
   ]
  },
  {
   "cell_type": "code",
   "execution_count": 3,
   "metadata": {
    "collapsed": false,
    "execution": {
     "iopub.execute_input": "2021-12-07T21:37:49.386320Z",
     "iopub.status.busy": "2021-12-07T21:37:49.385970Z",
     "iopub.status.idle": "2021-12-07T21:38:31.782297Z",
     "shell.execute_reply": "2021-12-07T21:38:31.781765Z",
     "shell.execute_reply.started": "2021-12-07T21:37:49.386271Z"
    },
    "jupyter": {
     "outputs_hidden": false
    },
    "pycharm": {
     "name": "#%%\n"
    }
   },
   "outputs": [
    {
     "name": "stdout",
     "output_type": "stream",
     "text": [
      "Downloading dataset files...\n"
     ]
    },
    {
     "name": "stderr",
     "output_type": "stream",
     "text": [
      "2021-12-07 21:37:50,182 INFO numerapi.utils: starting download\n",
      "tournament_data_293.parquet: 582MB [00:20, 28.7MB/s]                            \n",
      "2021-12-07 21:38:10,979 INFO numerapi.utils: starting download\n",
      "validation_data.parquet: 228MB [00:08, 27.6MB/s]                            \n",
      "2021-12-07 21:38:26,341 INFO numerapi.utils: target file already exists\n",
      "2021-12-07 21:38:26,342 INFO numerapi.utils: download complete\n"
     ]
    },
    {
     "name": "stdout",
     "output_type": "stream",
     "text": [
      "Checking for existing model 'model_target'\n",
      "On validation the correlation has mean 0.015585370936464444 and std 0.03345040207303254\n",
      "Predicting on tournament data\n"
     ]
    }
   ],
   "source": [
    "current_round = napi.get_current_round(tournament=8)  # tournament 8 is the primary Numerai Tournament\n",
    "\n",
    "print('Downloading dataset files...')\n",
    "\n",
    "\n",
    "\n",
    "AWSAccessKeyId = os.getenv('AWSAccessKeyId')\n",
    "AWSSecretKey = os.getenv('AWSSecretKey')\n",
    "\n",
    "bucket = 'data-newyork-numerai-plus'\n",
    "\n",
    "fs = s3fs.S3FileSystem(key=AWSAccessKeyId,secret=AWSSecretKey)\n",
    "\n",
    "#validation_data = pq.read_table('s3://' + bucket + '/' + 'numerai_validation_data.parquet', filesystem=fs).to_pandas()\n",
    "#tournament_data = pq.read_table('s3://' + bucket + '/' + 'numerai_tournament_data.parquet', filesystem=fs).to_pandas()\n",
    "\n",
    "napi.download_dataset(\"numerai_tournament_data.parquet\", f\"tournament_data_{current_round}.parquet\")\n",
    "napi.download_dataset(\"numerai_validation_data.parquet\", f\"validation_data.parquet\")\n",
    "\n",
    "validation_data = pq.read_table('validation_data.parquet').to_pandas()\n",
    "tournament_data = pq.read_table(f\"tournament_data_{current_round}.parquet\").to_pandas()\n",
    "\n",
    "napi.download_dataset(\"example_validation_predictions.csv\", \"example_validation_predictions.csv\")\n",
    "\n",
    "model_name = f\"model_target\"\n",
    "print(f\"Checking for existing model '{model_name}'\")\n",
    "model = load_stuff(model_name)\n",
    "selected_features = load_stuff('features')\n",
    "if not model:\n",
    "    print(f\"model not found\")\n",
    "\n",
    "model_expected_features = selected_features\n",
    "\n",
    "read_columns = model_expected_features + [ERA_COL, DATA_TYPE_COL, TARGET_COL]\n",
    "\n",
    "#validation_data = pd.read_csv('validation_data.csv', usecols=read_columns)\n",
    "validation_data[PREDICTION_NAME] = model.predict(validation_data[model_expected_features])\n",
    "\n",
    "validation_preds = pd.read_csv('example_validation_predictions.csv')\n",
    "validation_data[EXAMPLE_PREDS_COL] = validation_preds[\"prediction\"]\n",
    "\n",
    "validation_correlations = validation_data.groupby(\"era\").apply(score)\n",
    "print(f\"On validation the correlation has mean {validation_correlations.mean()} and std {validation_correlations.std()}\")\n",
    "\n",
    "\n",
    "#tournament_data = pd.read_csv(f'tournament_data_{current_round}.csv')\n",
    "\n",
    "print('Predicting on tournament data')\n",
    "tournament_data[PREDICTION_NAME] = model.predict(tournament_data[model_expected_features])\n",
    "\n",
    "tournament_data[PREDICTION_NAME].to_csv(\"predictions.csv\")\n",
    "\n",
    "\n",
    "\n"
   ]
  },
  {
   "cell_type": "code",
   "execution_count": 24,
   "metadata": {
    "collapsed": false,
    "execution": {
     "iopub.execute_input": "2021-12-07T07:05:42.660549Z",
     "iopub.status.busy": "2021-12-07T07:05:42.660248Z",
     "iopub.status.idle": "2021-12-07T07:05:44.661663Z",
     "shell.execute_reply": "2021-12-07T07:05:44.661064Z",
     "shell.execute_reply.started": "2021-12-07T07:05:42.660526Z"
    },
    "jupyter": {
     "outputs_hidden": false
    },
    "pycharm": {
     "name": "#%%\n"
    }
   },
   "outputs": [
    {
     "name": "stderr",
     "output_type": "stream",
     "text": [
      "2021-12-07 07:05:42,662 INFO numerapi.base_api: uploading predictions...\n"
     ]
    },
    {
     "name": "stdout",
     "output_type": "stream",
     "text": [
      "uploading\n"
     ]
    },
    {
     "name": "stderr",
     "output_type": "stream",
     "text": [
      "2021-12-07 07:05:44,648 ERROR numerapi.base_api: Can't update submission after deadline if previous submission was on time\n"
     ]
    },
    {
     "ename": "ValueError",
     "evalue": "Can't update submission after deadline if previous submission was on time",
     "output_type": "error",
     "traceback": [
      "\u001b[0;31m---------------------------------------------------------------------------\u001b[0m",
      "\u001b[0;31mValueError\u001b[0m                                Traceback (most recent call last)",
      "\u001b[0;32m/tmp/ipykernel_162/650962836.py\u001b[0m in \u001b[0;36m<module>\u001b[0;34m\u001b[0m\n\u001b[1;32m      4\u001b[0m \u001b[0;34m\u001b[0m\u001b[0m\n\u001b[1;32m      5\u001b[0m \u001b[0mprint\u001b[0m\u001b[0;34m(\u001b[0m\u001b[0;34m'uploading'\u001b[0m\u001b[0;34m)\u001b[0m\u001b[0;34m\u001b[0m\u001b[0;34m\u001b[0m\u001b[0m\n\u001b[0;32m----> 6\u001b[0;31m \u001b[0msubmission_string\u001b[0m \u001b[0;34m=\u001b[0m \u001b[0mnapi\u001b[0m\u001b[0;34m.\u001b[0m\u001b[0mupload_predictions\u001b[0m\u001b[0;34m(\u001b[0m\u001b[0mfile_path\u001b[0m\u001b[0;34m=\u001b[0m\u001b[0mpath\u001b[0m\u001b[0;34m,\u001b[0m\u001b[0mversion\u001b[0m\u001b[0;34m=\u001b[0m\u001b[0;36m2\u001b[0m\u001b[0;34m)\u001b[0m\u001b[0;34m\u001b[0m\u001b[0;34m\u001b[0m\u001b[0m\n\u001b[0m\u001b[1;32m      7\u001b[0m \u001b[0mprint\u001b[0m\u001b[0;34m(\u001b[0m\u001b[0msubmission_string\u001b[0m\u001b[0;34m)\u001b[0m\u001b[0;34m\u001b[0m\u001b[0;34m\u001b[0m\u001b[0m\n\u001b[1;32m      8\u001b[0m \u001b[0;34m\u001b[0m\u001b[0m\n",
      "\u001b[0;32m/srv/conda/envs/saturn/lib/python3.9/site-packages/numerapi/numerapi.py\u001b[0m in \u001b[0;36mupload_predictions\u001b[0;34m(self, file_path, tournament, model_id, df, version)\u001b[0m\n\u001b[1;32m    616\u001b[0m                      \u001b[0;34m'modelId'\u001b[0m\u001b[0;34m:\u001b[0m \u001b[0mmodel_id\u001b[0m\u001b[0;34m,\u001b[0m\u001b[0;34m\u001b[0m\u001b[0;34m\u001b[0m\u001b[0m\n\u001b[1;32m    617\u001b[0m                      'triggerId': os.getenv('TRIGGER_ID', None)}\n\u001b[0;32m--> 618\u001b[0;31m         \u001b[0mcreate\u001b[0m \u001b[0;34m=\u001b[0m \u001b[0mself\u001b[0m\u001b[0;34m.\u001b[0m\u001b[0mraw_query\u001b[0m\u001b[0;34m(\u001b[0m\u001b[0mcreate_query\u001b[0m\u001b[0;34m,\u001b[0m \u001b[0marguments\u001b[0m\u001b[0;34m,\u001b[0m \u001b[0mauthorization\u001b[0m\u001b[0;34m=\u001b[0m\u001b[0;32mTrue\u001b[0m\u001b[0;34m)\u001b[0m\u001b[0;34m\u001b[0m\u001b[0;34m\u001b[0m\u001b[0m\n\u001b[0m\u001b[1;32m    619\u001b[0m         \u001b[0msubmission_id\u001b[0m \u001b[0;34m=\u001b[0m \u001b[0mcreate\u001b[0m\u001b[0;34m[\u001b[0m\u001b[0;34m'data'\u001b[0m\u001b[0;34m]\u001b[0m\u001b[0;34m[\u001b[0m\u001b[0;34m'create_submission'\u001b[0m\u001b[0;34m]\u001b[0m\u001b[0;34m[\u001b[0m\u001b[0;34m'id'\u001b[0m\u001b[0;34m]\u001b[0m\u001b[0;34m\u001b[0m\u001b[0;34m\u001b[0m\u001b[0m\n\u001b[1;32m    620\u001b[0m         \u001b[0;32mreturn\u001b[0m \u001b[0msubmission_id\u001b[0m\u001b[0;34m\u001b[0m\u001b[0;34m\u001b[0m\u001b[0m\n",
      "\u001b[0;32m/srv/conda/envs/saturn/lib/python3.9/site-packages/numerapi/base_api.py\u001b[0m in \u001b[0;36mraw_query\u001b[0;34m(self, query, variables, authorization)\u001b[0m\n\u001b[1;32m    124\u001b[0m             \u001b[0merr\u001b[0m \u001b[0;34m=\u001b[0m \u001b[0mself\u001b[0m\u001b[0;34m.\u001b[0m\u001b[0m_handle_call_error\u001b[0m\u001b[0;34m(\u001b[0m\u001b[0mresult\u001b[0m\u001b[0;34m[\u001b[0m\u001b[0;34m'errors'\u001b[0m\u001b[0;34m]\u001b[0m\u001b[0;34m)\u001b[0m\u001b[0;34m\u001b[0m\u001b[0;34m\u001b[0m\u001b[0m\n\u001b[1;32m    125\u001b[0m             \u001b[0;31m# fail!\u001b[0m\u001b[0;34m\u001b[0m\u001b[0;34m\u001b[0m\u001b[0m\n\u001b[0;32m--> 126\u001b[0;31m             \u001b[0;32mraise\u001b[0m \u001b[0mValueError\u001b[0m\u001b[0;34m(\u001b[0m\u001b[0merr\u001b[0m\u001b[0;34m)\u001b[0m\u001b[0;34m\u001b[0m\u001b[0;34m\u001b[0m\u001b[0m\n\u001b[0m\u001b[1;32m    127\u001b[0m         \u001b[0;32mreturn\u001b[0m \u001b[0mresult\u001b[0m\u001b[0;34m\u001b[0m\u001b[0;34m\u001b[0m\u001b[0m\n\u001b[1;32m    128\u001b[0m \u001b[0;34m\u001b[0m\u001b[0m\n",
      "\u001b[0;31mValueError\u001b[0m: Can't update submission after deadline if previous submission was on time"
     ]
    }
   ],
   "source": [
    "\n",
    "#print('uploading')\n",
    "\n",
    "path =  \"predictions.csv\"\n",
    "\n",
    "print('uploading')\n",
    "submission_string = napi.upload_predictions(file_path=path,version=2)\n",
    "print(submission_string)\n",
    "\n",
    "\n",
    "\n",
    "\n"
   ]
  },
  {
   "cell_type": "code",
   "execution_count": null,
   "metadata": {},
   "outputs": [],
   "source": []
  }
 ],
 "metadata": {
  "kernelspec": {
   "display_name": "saturn (Python 3)",
   "language": "python",
   "name": "python3"
  },
  "language_info": {
   "codemirror_mode": {
    "name": "ipython",
    "version": 3
   },
   "file_extension": ".py",
   "mimetype": "text/x-python",
   "name": "python",
   "nbconvert_exporter": "python",
   "pygments_lexer": "ipython3",
   "version": "3.9.7"
  }
 },
 "nbformat": 4,
 "nbformat_minor": 4
}
